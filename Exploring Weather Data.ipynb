{
 "cells": [
  {
   "cell_type": "markdown",
   "metadata": {},
   "source": [
    "# Exploring weather Trends"
   ]
  },
  {
   "cell_type": "code",
   "execution_count": 1,
   "metadata": {},
   "outputs": [],
   "source": [
    "#Extract the data from the database\n",
    "#Write a SQL query to extract the city level data. Export to CSV.\n",
    "#Write a SQL query to extract the global data. Export to CSV"
   ]
  },
  {
   "cell_type": "code",
   "execution_count": 2,
   "metadata": {},
   "outputs": [
    {
     "ename": "SyntaxError",
     "evalue": "invalid syntax (<ipython-input-2-acee486ff1a7>, line 3)",
     "output_type": "error",
     "traceback": [
      "\u001b[1;36m  File \u001b[1;32m\"<ipython-input-2-acee486ff1a7>\"\u001b[1;36m, line \u001b[1;32m3\u001b[0m\n\u001b[1;33m    SELECT * FROM city_data\u001b[0m\n\u001b[1;37m                          ^\u001b[0m\n\u001b[1;31mSyntaxError\u001b[0m\u001b[1;31m:\u001b[0m invalid syntax\n"
     ]
    }
   ],
   "source": [
    "#Write a SQL query to extract the city level data. Export to CSV.\n",
    "\n",
    "SELECT * FROM city_data\n",
    "WHERE Country='France'"
   ]
  },
  {
   "cell_type": "code",
   "execution_count": 3,
   "metadata": {},
   "outputs": [
    {
     "ename": "SyntaxError",
     "evalue": "invalid syntax (<ipython-input-3-9757ca55bce9>, line 2)",
     "output_type": "error",
     "traceback": [
      "\u001b[1;36m  File \u001b[1;32m\"<ipython-input-3-9757ca55bce9>\"\u001b[1;36m, line \u001b[1;32m2\u001b[0m\n\u001b[1;33m    SELECT * FROM global_data\u001b[0m\n\u001b[1;37m                            ^\u001b[0m\n\u001b[1;31mSyntaxError\u001b[0m\u001b[1;31m:\u001b[0m invalid syntax\n"
     ]
    }
   ],
   "source": [
    "#Write a SQL query to extract the global data. Export to CSV\n",
    "SELECT * FROM global_data"
   ]
  },
  {
   "cell_type": "code",
   "execution_count": 4,
   "metadata": {},
   "outputs": [],
   "source": [
    "import pandas as pd\n",
    "#df1 = pd.read_csv(\"C:/PythonHow/file1.csv\", header=None)"
   ]
  },
  {
   "cell_type": "code",
   "execution_count": 5,
   "metadata": {},
   "outputs": [
    {
     "name": "stdout",
     "output_type": "stream",
     "text": [
      "   year  avg_temp\n",
      "0  1750     11.18\n",
      "1  1751     11.15\n",
      "2  1752      6.97\n",
      "3  1753     10.40\n",
      "4  1754     10.15\n",
      "5  1755      9.84\n",
      "6  1756     10.20\n",
      "7  1757     10.02\n",
      "8  1758      9.62\n",
      "9  1759     10.66\n"
     ]
    }
   ],
   "source": [
    "#import and view temperature data for city using pandas\n",
    "df1 = pd.read_csv(\"C:/Users/Frances-Anthony/Documents/Udacity/Nanodeg-da/project-1/paris-data.csv\")\n",
    "print(df1.head(10))"
   ]
  },
  {
   "cell_type": "code",
   "execution_count": 6,
   "metadata": {},
   "outputs": [
    {
     "name": "stdout",
     "output_type": "stream",
     "text": [
      "   year  avg_temp\n",
      "0  1750      5.78\n",
      "1  1751      6.74\n",
      "2  1752      6.78\n",
      "3  1753      6.86\n",
      "4  1754      6.92\n",
      "5  1755      6.94\n",
      "6  1756      6.98\n",
      "7  1757      7.05\n",
      "8  1758      7.08\n",
      "9  1759      7.19\n"
     ]
    }
   ],
   "source": [
    "#import and view from csv global temperature data using pandas\n",
    "df2 = pd.read_csv(\"C:/Users/Frances-Anthony/Documents/Udacity/Nanodeg-da/project-1/global-temp-data.csv\")\n",
    "result = df2.head(10)\n",
    "print(result)"
   ]
  },
  {
   "cell_type": "code",
   "execution_count": 10,
   "metadata": {},
   "outputs": [
    {
     "data": {
      "text/plain": [
       "0         NaN\n",
       "1         NaN\n",
       "2         NaN\n",
       "3         NaN\n",
       "4         NaN\n",
       "        ...  \n",
       "259    11.606\n",
       "260    11.473\n",
       "261    11.569\n",
       "262    11.504\n",
       "263    11.414\n",
       "Name: avg_temp, Length: 264, dtype: float64"
      ]
     },
     "execution_count": 10,
     "metadata": {},
     "output_type": "execute_result"
    }
   ],
   "source": [
    "#calculate simple moving average using pandas series rolling method\n",
    "#SMA for paris data\n",
    "df1['avg_temp'].rolling(10).mean()"
   ]
  },
  {
   "cell_type": "code",
   "execution_count": null,
   "metadata": {},
   "outputs": [],
   "source": [
    "import pandas as pd\n",
    "import numpy as np\n",
    "temperatures = {\n",
    "    'years' :[1500, 1550, 1600, 1650, 1700, 1750, 1800, 1850, 1900, 1950, 2000, 2050],\n",
    "    'local' :[8, 7, 9, 8, 7, 7, 7, 8, 9, 8, 8, 8],\n",
    "    'global':[7, 7, 9, 9, 7, 8, 7, 9, 9, 8, 9, 8]\n",
    "}\n",
    "df = pd.DataFrame(temperatures)\n",
    "df.head() # optional\n",
    "window_to_average = 3\n",
    "# iloc in column 1\n",
    "df['MA_LOCAL'] = df.iloc[:,1].rolling(window=window_to_average).mean()\n",
    "# iloc in column 2\n",
    "df['MA_GLOBAL'] = df.iloc[:,2].rolling(window=window_to_average).mean()\n",
    "df.head() # optional"
   ]
  },
  {
   "cell_type": "code",
   "execution_count": null,
   "metadata": {},
   "outputs": [],
   "source": []
  }
 ],
 "metadata": {
  "kernelspec": {
   "display_name": "Python 3",
   "language": "python",
   "name": "python3"
  },
  "language_info": {
   "codemirror_mode": {
    "name": "ipython",
    "version": 3
   },
   "file_extension": ".py",
   "mimetype": "text/x-python",
   "name": "python",
   "nbconvert_exporter": "python",
   "pygments_lexer": "ipython3",
   "version": "3.6.9"
  }
 },
 "nbformat": 4,
 "nbformat_minor": 2
}
